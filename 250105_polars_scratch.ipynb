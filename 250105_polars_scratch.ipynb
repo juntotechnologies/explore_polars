{
  "cells": [
    {
      "cell_type": "code",
      "execution_count": 1,
      "metadata": {
        "id": "tuPytJe2uFNe"
      },
      "outputs": [],
      "source": [
        "import polars as pl\n",
        "import numpy"
      ]
    },
    {
      "cell_type": "code",
      "execution_count": 2,
      "metadata": {
        "id": "wgFA2cz3vNXj"
      },
      "outputs": [],
      "source": [
        "# First, should learn lambda functions to better work with data and polars framework\n",
        "# Lambda functions are anon functions\n",
        "# E.g.:\n",
        "\n",
        "add = lambda x, y: x + y"
      ]
    },
    {
      "cell_type": "code",
      "execution_count": 3,
      "metadata": {
        "collapsed": true,
        "id": "eDgsFsDNvM2g"
      },
      "outputs": [
        {
          "data": {
            "text/plain": [
              "7"
            ]
          },
          "execution_count": 3,
          "metadata": {},
          "output_type": "execute_result"
        }
      ],
      "source": [
        "# Using add lambda function\n",
        "z = add(x=1, y=2)\n",
        "add(x=z, y = z+1)"
      ]
    },
    {
      "cell_type": "code",
      "execution_count": 4,
      "metadata": {
        "id": "kCf8R_i4wB1b"
      },
      "outputs": [],
      "source": [
        "q = (\n",
        "    pl.scan_csv(\"docs/assets/data/iris.csv\")\n",
        ")"
      ]
    },
    {
      "cell_type": "code",
      "execution_count": 38,
      "metadata": {
        "id": "pkLGSXo8uGLL"
      },
      "outputs": [
        {
          "data": {
            "text/html": [
              "<div><style>\n",
              ".dataframe > thead > tr,\n",
              ".dataframe > tbody > tr {\n",
              "  text-align: right;\n",
              "  white-space: pre-wrap;\n",
              "}\n",
              "</style>\n",
              "<small>shape: (5, 3)</small><table border=\"1\" class=\"dataframe\"><thead><tr><th>name</th><th>age</th><th>employed</th></tr><tr><td>str</td><td>str</td><td>i64</td></tr></thead><tbody><tr><td>&quot;Shaun&quot;</td><td>&quot;28&quot;</td><td>1</td></tr><tr><td>&quot;Sophie&quot;</td><td>&quot;23&quot;</td><td>0</td></tr><tr><td>&quot;Antony&quot;</td><td>&quot;32&quot;</td><td>1</td></tr><tr><td>&quot;Praful&quot;</td><td>&quot;69&quot;</td><td>1</td></tr><tr><td>&quot;Usha&quot;</td><td>&quot;63&quot;</td><td>0</td></tr></tbody></table></div>"
            ],
            "text/plain": [
              "shape: (5, 3)\n",
              "┌────────┬─────┬──────────┐\n",
              "│ name   ┆ age ┆ employed │\n",
              "│ ---    ┆ --- ┆ ---      │\n",
              "│ str    ┆ str ┆ i64      │\n",
              "╞════════╪═════╪══════════╡\n",
              "│ Shaun  ┆ 28  ┆ 1        │\n",
              "│ Sophie ┆ 23  ┆ 0        │\n",
              "│ Antony ┆ 32  ┆ 1        │\n",
              "│ Praful ┆ 69  ┆ 1        │\n",
              "│ Usha   ┆ 63  ┆ 0        │\n",
              "└────────┴─────┴──────────┘"
            ]
          },
          "execution_count": 38,
          "metadata": {},
          "output_type": "execute_result"
        }
      ],
      "source": [
        "# Create a dataframe\n",
        "df_spp = \\\n",
        "  pl.DataFrame(\n",
        "    {\n",
        "      \"name\": ['Shaun', 'Sophie', 'Antony', 'Praful', 'Usha'],\n",
        "      \"age\": ['28', '23', '32', '69', '63'],\n",
        "      \"employed\": [1,0,1,1,0]\n",
        "    }\n",
        "  )\n",
        "\n",
        "df_spp\n"
      ]
    },
    {
      "cell_type": "code",
      "execution_count": 39,
      "metadata": {
        "colab": {
          "base_uri": "https://localhost:8080/",
          "height": 380
        },
        "id": "Uc9wGP3CuN_E",
        "outputId": "25f138b2-f0f3-4fcc-e9fc-a3ee92c23fe1"
      },
      "outputs": [
        {
          "data": {
            "text/html": [
              "<div><style>\n",
              ".dataframe > thead > tr,\n",
              ".dataframe > tbody > tr {\n",
              "  text-align: right;\n",
              "  white-space: pre-wrap;\n",
              "}\n",
              "</style>\n",
              "<small>shape: (9, 4)</small><table border=\"1\" class=\"dataframe\"><thead><tr><th>statistic</th><th>name</th><th>age</th><th>employed</th></tr><tr><td>str</td><td>str</td><td>str</td><td>f64</td></tr></thead><tbody><tr><td>&quot;count&quot;</td><td>&quot;5&quot;</td><td>&quot;5&quot;</td><td>5.0</td></tr><tr><td>&quot;null_count&quot;</td><td>&quot;0&quot;</td><td>&quot;0&quot;</td><td>0.0</td></tr><tr><td>&quot;mean&quot;</td><td>null</td><td>null</td><td>0.6</td></tr><tr><td>&quot;std&quot;</td><td>null</td><td>null</td><td>0.547723</td></tr><tr><td>&quot;min&quot;</td><td>&quot;Antony&quot;</td><td>&quot;23&quot;</td><td>0.0</td></tr><tr><td>&quot;25%&quot;</td><td>null</td><td>null</td><td>0.0</td></tr><tr><td>&quot;50%&quot;</td><td>null</td><td>null</td><td>1.0</td></tr><tr><td>&quot;75%&quot;</td><td>null</td><td>null</td><td>1.0</td></tr><tr><td>&quot;max&quot;</td><td>&quot;Usha&quot;</td><td>&quot;69&quot;</td><td>1.0</td></tr></tbody></table></div>"
            ],
            "text/plain": [
              "shape: (9, 4)\n",
              "┌────────────┬────────┬──────┬──────────┐\n",
              "│ statistic  ┆ name   ┆ age  ┆ employed │\n",
              "│ ---        ┆ ---    ┆ ---  ┆ ---      │\n",
              "│ str        ┆ str    ┆ str  ┆ f64      │\n",
              "╞════════════╪════════╪══════╪══════════╡\n",
              "│ count      ┆ 5      ┆ 5    ┆ 5.0      │\n",
              "│ null_count ┆ 0      ┆ 0    ┆ 0.0      │\n",
              "│ mean       ┆ null   ┆ null ┆ 0.6      │\n",
              "│ std        ┆ null   ┆ null ┆ 0.547723 │\n",
              "│ min        ┆ Antony ┆ 23   ┆ 0.0      │\n",
              "│ 25%        ┆ null   ┆ null ┆ 0.0      │\n",
              "│ 50%        ┆ null   ┆ null ┆ 1.0      │\n",
              "│ 75%        ┆ null   ┆ null ┆ 1.0      │\n",
              "│ max        ┆ Usha   ┆ 69   ┆ 1.0      │\n",
              "└────────────┴────────┴──────┴──────────┘"
            ]
          },
          "execution_count": 39,
          "metadata": {},
          "output_type": "execute_result"
        }
      ],
      "source": [
        "# Test describe\n",
        "df_spp.describe()"
      ]
    },
    {
      "cell_type": "code",
      "execution_count": 40,
      "metadata": {
        "colab": {
          "base_uri": "https://localhost:8080/"
        },
        "id": "a8shDz7tzlyH",
        "outputId": "8aab0a97-9951-4e84-eccf-1ad4b313de2f"
      },
      "outputs": [
        {
          "data": {
            "text/plain": [
              "Schema([('name', String), ('age', String), ('employed', Int64)])"
            ]
          },
          "execution_count": 40,
          "metadata": {},
          "output_type": "execute_result"
        }
      ],
      "source": [
        "# Test collect_schema\n",
        "df_spp.collect_schema()"
      ]
    },
    {
      "cell_type": "code",
      "execution_count": 30,
      "metadata": {
        "colab": {
          "base_uri": "https://localhost:8080/",
          "height": 339
        },
        "collapsed": true,
        "id": "T3Wj49gz7TOJ",
        "outputId": "e74fa144-3a89-468f-b65e-e2ac731d2159"
      },
      "outputs": [
        {
          "ename": "TypeError",
          "evalue": "unsupported operand type(s) for /: 'str' and 'int'",
          "output_type": "error",
          "traceback": [
            "\u001b[0;31m---------------------------------------------------------------------------\u001b[0m",
            "\u001b[0;31mTypeError\u001b[0m                                 Traceback (most recent call last)",
            "Cell \u001b[0;32mIn[30], line 4\u001b[0m\n\u001b[1;32m      1\u001b[0m \u001b[39m# Test out corr\u001b[39;00m\n\u001b[1;32m      2\u001b[0m \u001b[39m# Apparently corr doesn't work with types 'str', 'int'\u001b[39;00m\n\u001b[1;32m      3\u001b[0m \u001b[39m# Guess I need double/float?\u001b[39;00m\n\u001b[0;32m----> 4\u001b[0m df_spp\u001b[39m.\u001b[39;49mcorr()\n",
            "File \u001b[0;32m~/Documents/Documents - Shaun’s MacBook Air/GitHub/other/explore_polars/.venv/lib/python3.10/site-packages/polars/dataframe/frame.py:11257\u001b[0m, in \u001b[0;36mDataFrame.corr\u001b[0;34m(self, **kwargs)\u001b[0m\n\u001b[1;32m  11226\u001b[0m \u001b[39mdef\u001b[39;00m\u001b[39m \u001b[39m\u001b[39mcorr\u001b[39m(\u001b[39mself\u001b[39m, \u001b[39m*\u001b[39m\u001b[39m*\u001b[39mkwargs: Any) \u001b[39m-\u001b[39m\u001b[39m>\u001b[39m DataFrame:\n\u001b[1;32m  11227\u001b[0m \u001b[39m    \u001b[39m\u001b[39m\"\"\"\u001b[39;00m\n\u001b[1;32m  11228\u001b[0m \u001b[39m    Return pairwise Pearson product-moment correlation coefficients between columns.\u001b[39;00m\n\u001b[1;32m  11229\u001b[0m \n\u001b[0;32m   (...)\u001b[0m\n\u001b[1;32m  11255\u001b[0m \u001b[39m    └──────┴──────┴──────┘\u001b[39;00m\n\u001b[1;32m  11256\u001b[0m \u001b[39m    \"\"\"\u001b[39;00m\n\u001b[0;32m> 11257\u001b[0m     correlation_matrix \u001b[39m=\u001b[39m np\u001b[39m.\u001b[39;49mcorrcoef(\u001b[39mself\u001b[39;49m\u001b[39m.\u001b[39;49mto_numpy(), rowvar\u001b[39m=\u001b[39;49m\u001b[39mFalse\u001b[39;49;00m, \u001b[39m*\u001b[39;49m\u001b[39m*\u001b[39;49mkwargs)\n\u001b[1;32m  11258\u001b[0m     \u001b[39mif\u001b[39;00m \u001b[39mself\u001b[39m\u001b[39m.\u001b[39mwidth \u001b[39m==\u001b[39m \u001b[39m1\u001b[39m:\n\u001b[1;32m  11259\u001b[0m         correlation_matrix \u001b[39m=\u001b[39m np\u001b[39m.\u001b[39marray([correlation_matrix])\n",
            "File \u001b[0;32m~/Documents/Documents - Shaun’s MacBook Air/GitHub/other/explore_polars/.venv/lib/python3.10/site-packages/numpy/lib/_function_base_impl.py:3037\u001b[0m, in \u001b[0;36mcorrcoef\u001b[0;34m(x, y, rowvar, bias, ddof, dtype)\u001b[0m\n\u001b[1;32m   3033\u001b[0m \u001b[39mif\u001b[39;00m bias \u001b[39mis\u001b[39;00m \u001b[39mnot\u001b[39;00m np\u001b[39m.\u001b[39m_NoValue \u001b[39mor\u001b[39;00m ddof \u001b[39mis\u001b[39;00m \u001b[39mnot\u001b[39;00m np\u001b[39m.\u001b[39m_NoValue:\n\u001b[1;32m   3034\u001b[0m     \u001b[39m# 2015-03-15, 1.10\u001b[39;00m\n\u001b[1;32m   3035\u001b[0m     warnings\u001b[39m.\u001b[39mwarn(\u001b[39m'\u001b[39m\u001b[39mbias and ddof have no effect and are deprecated\u001b[39m\u001b[39m'\u001b[39m,\n\u001b[1;32m   3036\u001b[0m                   \u001b[39mDeprecationWarning\u001b[39;00m, stacklevel\u001b[39m=\u001b[39m\u001b[39m2\u001b[39m)\n\u001b[0;32m-> 3037\u001b[0m c \u001b[39m=\u001b[39m cov(x, y, rowvar, dtype\u001b[39m=\u001b[39;49mdtype)\n\u001b[1;32m   3038\u001b[0m \u001b[39mtry\u001b[39;00m:\n\u001b[1;32m   3039\u001b[0m     d \u001b[39m=\u001b[39m diag(c)\n",
            "File \u001b[0;32m~/Documents/Documents - Shaun’s MacBook Air/GitHub/other/explore_polars/.venv/lib/python3.10/site-packages/numpy/lib/_function_base_impl.py:2870\u001b[0m, in \u001b[0;36mcov\u001b[0;34m(m, y, rowvar, bias, ddof, fweights, aweights, dtype)\u001b[0m\n\u001b[1;32m   2867\u001b[0m     \u001b[39melse\u001b[39;00m:\n\u001b[1;32m   2868\u001b[0m         w \u001b[39m*\u001b[39m\u001b[39m=\u001b[39m aweights\n\u001b[0;32m-> 2870\u001b[0m avg, w_sum \u001b[39m=\u001b[39m average(X, axis\u001b[39m=\u001b[39;49m\u001b[39m1\u001b[39;49m, weights\u001b[39m=\u001b[39;49mw, returned\u001b[39m=\u001b[39;49m\u001b[39mTrue\u001b[39;49;00m)\n\u001b[1;32m   2871\u001b[0m w_sum \u001b[39m=\u001b[39m w_sum[\u001b[39m0\u001b[39m]\n\u001b[1;32m   2873\u001b[0m \u001b[39m# Determine the normalization\u001b[39;00m\n",
            "File \u001b[0;32m~/Documents/Documents - Shaun’s MacBook Air/GitHub/other/explore_polars/.venv/lib/python3.10/site-packages/numpy/lib/_function_base_impl.py:552\u001b[0m, in \u001b[0;36maverage\u001b[0;34m(a, axis, weights, returned, keepdims)\u001b[0m\n\u001b[1;32m    549\u001b[0m     keepdims_kw \u001b[39m=\u001b[39m {\u001b[39m'\u001b[39m\u001b[39mkeepdims\u001b[39m\u001b[39m'\u001b[39m: keepdims}\n\u001b[1;32m    551\u001b[0m \u001b[39mif\u001b[39;00m weights \u001b[39mis\u001b[39;00m \u001b[39mNone\u001b[39;00m:\n\u001b[0;32m--> 552\u001b[0m     avg \u001b[39m=\u001b[39m a\u001b[39m.\u001b[39;49mmean(axis, \u001b[39m*\u001b[39;49m\u001b[39m*\u001b[39;49mkeepdims_kw)\n\u001b[1;32m    553\u001b[0m     avg_as_array \u001b[39m=\u001b[39m np\u001b[39m.\u001b[39masanyarray(avg)\n\u001b[1;32m    554\u001b[0m     scl \u001b[39m=\u001b[39m avg_as_array\u001b[39m.\u001b[39mdtype\u001b[39m.\u001b[39mtype(a\u001b[39m.\u001b[39msize\u001b[39m/\u001b[39mavg_as_array\u001b[39m.\u001b[39msize)\n",
            "File \u001b[0;32m~/Documents/Documents - Shaun’s MacBook Air/GitHub/other/explore_polars/.venv/lib/python3.10/site-packages/numpy/_core/_methods.py:137\u001b[0m, in \u001b[0;36m_mean\u001b[0;34m(a, axis, dtype, out, keepdims, where)\u001b[0m\n\u001b[1;32m    135\u001b[0m ret \u001b[39m=\u001b[39m umr_sum(arr, axis, dtype, out, keepdims, where\u001b[39m=\u001b[39mwhere)\n\u001b[1;32m    136\u001b[0m \u001b[39mif\u001b[39;00m \u001b[39misinstance\u001b[39m(ret, mu\u001b[39m.\u001b[39mndarray):\n\u001b[0;32m--> 137\u001b[0m     ret \u001b[39m=\u001b[39m um\u001b[39m.\u001b[39;49mtrue_divide(\n\u001b[1;32m    138\u001b[0m             ret, rcount, out\u001b[39m=\u001b[39;49mret, casting\u001b[39m=\u001b[39;49m\u001b[39m'\u001b[39;49m\u001b[39munsafe\u001b[39;49m\u001b[39m'\u001b[39;49m, subok\u001b[39m=\u001b[39;49m\u001b[39mFalse\u001b[39;49;00m)\n\u001b[1;32m    139\u001b[0m     \u001b[39mif\u001b[39;00m is_float16_result \u001b[39mand\u001b[39;00m out \u001b[39mis\u001b[39;00m \u001b[39mNone\u001b[39;00m:\n\u001b[1;32m    140\u001b[0m         ret \u001b[39m=\u001b[39m arr\u001b[39m.\u001b[39mdtype\u001b[39m.\u001b[39mtype(ret)\n",
            "\u001b[0;31mTypeError\u001b[0m: unsupported operand type(s) for /: 'str' and 'int'"
          ]
        }
      ],
      "source": [
        "# Test out corr\n",
        "# Apparently corr doesn't work with types 'str', 'int'\n",
        "# Guess I need double/float?\n",
        "df_spp.corr()"
      ]
    },
    {
      "cell_type": "code",
      "execution_count": 41,
      "metadata": {
        "id": "FdSo9nas8Yu7"
      },
      "outputs": [
        {
          "data": {
            "text/html": [
              "<div><style>\n",
              ".dataframe > thead > tr,\n",
              ".dataframe > tbody > tr {\n",
              "  text-align: right;\n",
              "  white-space: pre-wrap;\n",
              "}\n",
              "</style>\n",
              "<small>shape: (5, 3)</small><table border=\"1\" class=\"dataframe\"><thead><tr><th>name</th><th>age</th><th>employed</th></tr><tr><td>str</td><td>str</td><td>i64</td></tr></thead><tbody><tr><td>&quot;Shaun&quot;</td><td>&quot;28&quot;</td><td>1</td></tr><tr><td>&quot;Sophie&quot;</td><td>&quot;23&quot;</td><td>0</td></tr><tr><td>&quot;Antony&quot;</td><td>&quot;32&quot;</td><td>1</td></tr><tr><td>&quot;Praful&quot;</td><td>&quot;69&quot;</td><td>1</td></tr><tr><td>&quot;Usha&quot;</td><td>&quot;63&quot;</td><td>0</td></tr></tbody></table></div>"
            ],
            "text/plain": [
              "shape: (5, 3)\n",
              "┌────────┬─────┬──────────┐\n",
              "│ name   ┆ age ┆ employed │\n",
              "│ ---    ┆ --- ┆ ---      │\n",
              "│ str    ┆ str ┆ i64      │\n",
              "╞════════╪═════╪══════════╡\n",
              "│ Shaun  ┆ 28  ┆ 1        │\n",
              "│ Sophie ┆ 23  ┆ 0        │\n",
              "│ Antony ┆ 32  ┆ 1        │\n",
              "│ Praful ┆ 69  ┆ 1        │\n",
              "│ Usha   ┆ 63  ┆ 0        │\n",
              "└────────┴─────┴──────────┘"
            ]
          },
          "execution_count": 41,
          "metadata": {},
          "output_type": "execute_result"
        }
      ],
      "source": [
        "# Have to learn how to add more columns that are double/float, select them using pl framework, and run corr() on them\n",
        "# Goal is to get corr() to work\n",
        "\n",
        "# First let's create another df_spp object to work on:\n",
        "\n",
        "df_spp_scratch = df_spp.__copy__() # This copy is EXTREMELY IMPORTANT\n",
        "# If you don't do it, then after making the df_spp_scratch object, if you alter that object those changes also are applied to the original df_spp object\n",
        "# Insane!!!\n",
        "df_spp_scratch"
      ]
    },
    {
      "cell_type": "code",
      "execution_count": 37,
      "metadata": {},
      "outputs": [
        {
          "data": {
            "text/html": [
              "<div><style>\n",
              ".dataframe > thead > tr,\n",
              ".dataframe > tbody > tr {\n",
              "  text-align: right;\n",
              "  white-space: pre-wrap;\n",
              "}\n",
              "</style>\n",
              "<small>shape: (5, 4)</small><table border=\"1\" class=\"dataframe\"><thead><tr><th>name</th><th>age</th><th>mac_user</th><th>employed</th></tr><tr><td>str</td><td>str</td><td>f64</td><td>i64</td></tr></thead><tbody><tr><td>&quot;Shaun&quot;</td><td>&quot;28&quot;</td><td>1.0</td><td>1</td></tr><tr><td>&quot;Sophie&quot;</td><td>&quot;23&quot;</td><td>1.0</td><td>0</td></tr><tr><td>&quot;Antony&quot;</td><td>&quot;32&quot;</td><td>1.0</td><td>1</td></tr><tr><td>&quot;Praful&quot;</td><td>&quot;69&quot;</td><td>0.0</td><td>1</td></tr><tr><td>&quot;Usha&quot;</td><td>&quot;63&quot;</td><td>0.0</td><td>0</td></tr></tbody></table></div>"
            ],
            "text/plain": [
              "shape: (5, 4)\n",
              "┌────────┬─────┬──────────┬──────────┐\n",
              "│ name   ┆ age ┆ mac_user ┆ employed │\n",
              "│ ---    ┆ --- ┆ ---      ┆ ---      │\n",
              "│ str    ┆ str ┆ f64      ┆ i64      │\n",
              "╞════════╪═════╪══════════╪══════════╡\n",
              "│ Shaun  ┆ 28  ┆ 1.0      ┆ 1        │\n",
              "│ Sophie ┆ 23  ┆ 1.0      ┆ 0        │\n",
              "│ Antony ┆ 32  ┆ 1.0      ┆ 1        │\n",
              "│ Praful ┆ 69  ┆ 0.0      ┆ 1        │\n",
              "│ Usha   ┆ 63  ┆ 0.0      ┆ 0        │\n",
              "└────────┴─────┴──────────┴──────────┘"
            ]
          },
          "execution_count": 37,
          "metadata": {},
          "output_type": "execute_result"
        }
      ],
      "source": [
        "df_spp"
      ]
    },
    {
      "cell_type": "code",
      "execution_count": 35,
      "metadata": {
        "colab": {
          "base_uri": "https://localhost:8080/",
          "height": 287
        },
        "id": "YNn4QHMt7ov_",
        "outputId": "0ffcb3ea-30ec-4785-8aa4-69a94652fcde"
      },
      "outputs": [
        {
          "data": {
            "text/html": [
              "<div><style>\n",
              ".dataframe > thead > tr,\n",
              ".dataframe > tbody > tr {\n",
              "  text-align: right;\n",
              "  white-space: pre-wrap;\n",
              "}\n",
              "</style>\n",
              "<small>shape: (5, 4)</small><table border=\"1\" class=\"dataframe\"><thead><tr><th>name</th><th>age</th><th>mac_user</th><th>employed</th></tr><tr><td>str</td><td>str</td><td>f64</td><td>i64</td></tr></thead><tbody><tr><td>&quot;Shaun&quot;</td><td>&quot;28&quot;</td><td>1.0</td><td>1</td></tr><tr><td>&quot;Sophie&quot;</td><td>&quot;23&quot;</td><td>1.0</td><td>0</td></tr><tr><td>&quot;Antony&quot;</td><td>&quot;32&quot;</td><td>1.0</td><td>1</td></tr><tr><td>&quot;Praful&quot;</td><td>&quot;69&quot;</td><td>0.0</td><td>1</td></tr><tr><td>&quot;Usha&quot;</td><td>&quot;63&quot;</td><td>0.0</td><td>0</td></tr></tbody></table></div>"
            ],
            "text/plain": [
              "shape: (5, 4)\n",
              "┌────────┬─────┬──────────┬──────────┐\n",
              "│ name   ┆ age ┆ mac_user ┆ employed │\n",
              "│ ---    ┆ --- ┆ ---      ┆ ---      │\n",
              "│ str    ┆ str ┆ f64      ┆ i64      │\n",
              "╞════════╪═════╪══════════╪══════════╡\n",
              "│ Shaun  ┆ 28  ┆ 1.0      ┆ 1        │\n",
              "│ Sophie ┆ 23  ┆ 1.0      ┆ 0        │\n",
              "│ Antony ┆ 32  ┆ 1.0      ┆ 1        │\n",
              "│ Praful ┆ 69  ┆ 0.0      ┆ 1        │\n",
              "│ Usha   ┆ 63  ┆ 0.0      ┆ 0        │\n",
              "└────────┴─────┴──────────┴──────────┘"
            ]
          },
          "execution_count": 35,
          "metadata": {},
          "output_type": "execute_result"
        }
      ],
      "source": [
        "# insert_column inserts in-place, so if the below is executed, then the dataframe on which this method is being executed permanently changes in memory\n",
        "df_spp_scratch.insert_column(index=-1,  column=pl.lit(pl.Series(name='mac_user', values=[1.0, 1.0, 1.0, 0.0, 0.0], dtype=pl.Float64)))\n",
        "df_spp_scratch"
      ]
    },
    {
      "cell_type": "code",
      "execution_count": 14,
      "metadata": {},
      "outputs": [
        {
          "data": {
            "text/html": [
              "<div><style>\n",
              ".dataframe > thead > tr,\n",
              ".dataframe > tbody > tr {\n",
              "  text-align: right;\n",
              "  white-space: pre-wrap;\n",
              "}\n",
              "</style>\n",
              "<small>shape: (5, 4)</small><table border=\"1\" class=\"dataframe\"><thead><tr><th>mac_user</th><th>name</th><th>age</th><th>employed</th></tr><tr><td>f64</td><td>str</td><td>str</td><td>i64</td></tr></thead><tbody><tr><td>1.0</td><td>&quot;Shaun&quot;</td><td>&quot;28&quot;</td><td>1</td></tr><tr><td>1.0</td><td>&quot;Sophie&quot;</td><td>&quot;23&quot;</td><td>0</td></tr><tr><td>1.0</td><td>&quot;Antony&quot;</td><td>&quot;32&quot;</td><td>1</td></tr><tr><td>0.0</td><td>&quot;Praful&quot;</td><td>&quot;69&quot;</td><td>1</td></tr><tr><td>0.0</td><td>&quot;Usha&quot;</td><td>&quot;63&quot;</td><td>0</td></tr></tbody></table></div>"
            ],
            "text/plain": [
              "shape: (5, 4)\n",
              "┌──────────┬────────┬─────┬──────────┐\n",
              "│ mac_user ┆ name   ┆ age ┆ employed │\n",
              "│ ---      ┆ ---    ┆ --- ┆ ---      │\n",
              "│ f64      ┆ str    ┆ str ┆ i64      │\n",
              "╞══════════╪════════╪═════╪══════════╡\n",
              "│ 1.0      ┆ Shaun  ┆ 28  ┆ 1        │\n",
              "│ 1.0      ┆ Sophie ┆ 23  ┆ 0        │\n",
              "│ 1.0      ┆ Antony ┆ 32  ┆ 1        │\n",
              "│ 0.0      ┆ Praful ┆ 69  ┆ 1        │\n",
              "│ 0.0      ┆ Usha   ┆ 63  ┆ 0        │\n",
              "└──────────┴────────┴─────┴──────────┘"
            ]
          },
          "execution_count": 14,
          "metadata": {},
          "output_type": "execute_result"
        }
      ],
      "source": [
        "df_spp"
      ]
    },
    {
      "cell_type": "code",
      "execution_count": 12,
      "metadata": {
        "colab": {
          "base_uri": "https://localhost:8080/",
          "height": 211
        },
        "id": "iggUWCvZV3uT",
        "outputId": "8bd6cdfe-c3eb-4342-8a7f-140c08605481"
      },
      "outputs": [
        {
          "ename": "TypeError",
          "evalue": "'module' object is not callable",
          "output_type": "error",
          "traceback": [
            "\u001b[0;31m---------------------------------------------------------------------------\u001b[0m",
            "\u001b[0;31mTypeError\u001b[0m                                 Traceback (most recent call last)",
            "Cell \u001b[0;32mIn[12], line 5\u001b[0m\n\u001b[1;32m      1\u001b[0m mac_user_series \u001b[39m=\u001b[39m pl\u001b[39m.\u001b[39mSeries(values\u001b[39m=\u001b[39m[\u001b[39m1.0\u001b[39m, \u001b[39m1.0\u001b[39m, \u001b[39m1.0\u001b[39m, \u001b[39m0.0\u001b[39m, \u001b[39m0.0\u001b[39m])\n\u001b[1;32m      3\u001b[0m df_spp\u001b[39m.\u001b[39mwith_columns(\n\u001b[1;32m      4\u001b[0m   pl\u001b[39m.\u001b[39mlit(value\u001b[39m=\u001b[39mmac_user_series, dtype\u001b[39m=\u001b[39mpl\u001b[39m.\u001b[39mFloat64)\u001b[39m.\u001b[39malias(\u001b[39m'\u001b[39m\u001b[39mmac_user\u001b[39m\u001b[39m'\u001b[39m),\n\u001b[0;32m----> 5\u001b[0m   pl\u001b[39m.\u001b[39mlit(value\u001b[39m=\u001b[39mpl\u001b[39m.\u001b[39;49mseries(values\u001b[39m=\u001b[39;49m[\u001b[39m1\u001b[39;49m,\u001b[39m2\u001b[39;49m,\u001b[39m3\u001b[39;49m,\u001b[39m4\u001b[39;49m,\u001b[39m5\u001b[39;49m]), dtype\u001b[39m=\u001b[39mpl\u001b[39m.\u001b[39mFloat64)\u001b[39m.\u001b[39malias(\u001b[39m'\u001b[39m\u001b[39mtestcol\u001b[39m\u001b[39m'\u001b[39m))\n",
            "\u001b[0;31mTypeError\u001b[0m: 'module' object is not callable"
          ]
        }
      ],
      "source": [
        "mac_user_series = pl.Series(values=[1.0, 1.0, 1.0, 0.0, 0.0])\n",
        "\n",
        "df_spp.with_columns(\n",
        "  pl.lit(value=mac_user_series, dtype=pl.Float64).alias('mac_user'),\n",
        "  pl.lit(value=pl.series(values=[1,2,3,4,5]), dtype=pl.Float64).alias('testcol'))"
      ]
    },
    {
      "cell_type": "code",
      "execution_count": 45,
      "metadata": {
        "colab": {
          "base_uri": "https://localhost:8080/"
        },
        "id": "vHoE2NdNW3S4",
        "outputId": "0c418418-5391-498e-d0a6-7829c6195533"
      },
      "outputs": [
        {
          "name": "stdout",
          "output_type": "stream",
          "text": [
            "shape: (3, 2)\n",
            "┌─────┬────────┐\n",
            "│ a   ┆ result │\n",
            "│ --- ┆ ---    │\n",
            "│ i64 ┆ i64    │\n",
            "╞═════╪════════╡\n",
            "│ 4   ┆ 5      │\n",
            "│ 5   ┆ 7      │\n",
            "│ 6   ┆ 9      │\n",
            "└─────┴────────┘\n"
          ]
        }
      ],
      "source": [
        "import polars as pl\n",
        "\n",
        "# A Series\n",
        "series = pl.Series([1, 2, 3])\n",
        "\n",
        "# Wrapping the Series in pl.lit to use in a query\n",
        "df = pl.DataFrame({\"a\": [4, 5, 6]})\n",
        "result = df.with_columns(\n",
        "    (pl.col(\"a\") + pl.lit(series)).alias(\"result\")\n",
        ")\n",
        "print(result)\n"
      ]
    },
    {
      "cell_type": "code",
      "execution_count": null,
      "metadata": {
        "id": "X280bCqfd73V"
      },
      "outputs": [],
      "source": []
    }
  ],
  "metadata": {
    "colab": {
      "provenance": []
    },
    "kernelspec": {
      "display_name": "Python 3",
      "name": "python3"
    },
    "language_info": {
      "codemirror_mode": {
        "name": "ipython",
        "version": 3
      },
      "file_extension": ".py",
      "mimetype": "text/x-python",
      "name": "python",
      "nbconvert_exporter": "python",
      "pygments_lexer": "ipython3",
      "version": "3.10.15"
    }
  },
  "nbformat": 4,
  "nbformat_minor": 0
}
