{
  "cells": [
    {
      "cell_type": "code",
      "execution_count": 150,
      "metadata": {
        "id": "tuPytJe2uFNe"
      },
      "outputs": [],
      "source": [
        "import polars as pl\n",
        "import numpy"
      ]
    },
    {
      "cell_type": "code",
      "execution_count": 151,
      "metadata": {
        "id": "wgFA2cz3vNXj"
      },
      "outputs": [],
      "source": [
        "# First, should learn lambda functions to better work with data and polars framework\n",
        "# Lambda functions are anon functions\n",
        "# E.g.:\n",
        "\n",
        "add = lambda x, y: x + y"
      ]
    },
    {
      "cell_type": "code",
      "execution_count": 152,
      "metadata": {
        "collapsed": true,
        "id": "eDgsFsDNvM2g"
      },
      "outputs": [
        {
          "data": {
            "text/plain": [
              "7"
            ]
          },
          "execution_count": 152,
          "metadata": {},
          "output_type": "execute_result"
        }
      ],
      "source": [
        "# Using add lambda function\n",
        "z = add(x=1, y=2)\n",
        "add(x=z, y = z+1)"
      ]
    },
    {
      "cell_type": "code",
      "execution_count": 153,
      "metadata": {
        "id": "kCf8R_i4wB1b"
      },
      "outputs": [],
      "source": [
        "q = (\n",
        "    pl.scan_csv(\"docs/assets/data/iris.csv\")\n",
        ")"
      ]
    },
    {
      "cell_type": "code",
      "execution_count": 154,
      "metadata": {
        "id": "pkLGSXo8uGLL"
      },
      "outputs": [
        {
          "data": {
            "text/html": [
              "<div><style>\n",
              ".dataframe > thead > tr,\n",
              ".dataframe > tbody > tr {\n",
              "  text-align: right;\n",
              "  white-space: pre-wrap;\n",
              "}\n",
              "</style>\n",
              "<small>shape: (5, 3)</small><table border=\"1\" class=\"dataframe\"><thead><tr><th>name</th><th>age</th><th>employed</th></tr><tr><td>str</td><td>str</td><td>i64</td></tr></thead><tbody><tr><td>&quot;Shaun&quot;</td><td>&quot;28&quot;</td><td>1</td></tr><tr><td>&quot;Sophie&quot;</td><td>&quot;23&quot;</td><td>0</td></tr><tr><td>&quot;Antony&quot;</td><td>&quot;32&quot;</td><td>1</td></tr><tr><td>&quot;Praful&quot;</td><td>&quot;69&quot;</td><td>1</td></tr><tr><td>&quot;Usha&quot;</td><td>&quot;63&quot;</td><td>0</td></tr></tbody></table></div>"
            ],
            "text/plain": [
              "shape: (5, 3)\n",
              "┌────────┬─────┬──────────┐\n",
              "│ name   ┆ age ┆ employed │\n",
              "│ ---    ┆ --- ┆ ---      │\n",
              "│ str    ┆ str ┆ i64      │\n",
              "╞════════╪═════╪══════════╡\n",
              "│ Shaun  ┆ 28  ┆ 1        │\n",
              "│ Sophie ┆ 23  ┆ 0        │\n",
              "│ Antony ┆ 32  ┆ 1        │\n",
              "│ Praful ┆ 69  ┆ 1        │\n",
              "│ Usha   ┆ 63  ┆ 0        │\n",
              "└────────┴─────┴──────────┘"
            ]
          },
          "execution_count": 154,
          "metadata": {},
          "output_type": "execute_result"
        }
      ],
      "source": [
        "# Create a dataframe\n",
        "df_spp = \\\n",
        "  pl.DataFrame(\n",
        "    {\n",
        "      \"name\": ['Shaun', 'Sophie', 'Antony', 'Praful', 'Usha'],\n",
        "      \"age\": ['28', '23', '32', '69', '63'],\n",
        "      \"employed\": [1,0,1,1,0]\n",
        "    }\n",
        "  )\n",
        "\n",
        "df_spp\n"
      ]
    },
    {
      "cell_type": "code",
      "execution_count": 155,
      "metadata": {
        "colab": {
          "base_uri": "https://localhost:8080/",
          "height": 380
        },
        "id": "Uc9wGP3CuN_E",
        "outputId": "25f138b2-f0f3-4fcc-e9fc-a3ee92c23fe1"
      },
      "outputs": [
        {
          "data": {
            "text/html": [
              "<div><style>\n",
              ".dataframe > thead > tr,\n",
              ".dataframe > tbody > tr {\n",
              "  text-align: right;\n",
              "  white-space: pre-wrap;\n",
              "}\n",
              "</style>\n",
              "<small>shape: (9, 4)</small><table border=\"1\" class=\"dataframe\"><thead><tr><th>statistic</th><th>name</th><th>age</th><th>employed</th></tr><tr><td>str</td><td>str</td><td>str</td><td>f64</td></tr></thead><tbody><tr><td>&quot;count&quot;</td><td>&quot;5&quot;</td><td>&quot;5&quot;</td><td>5.0</td></tr><tr><td>&quot;null_count&quot;</td><td>&quot;0&quot;</td><td>&quot;0&quot;</td><td>0.0</td></tr><tr><td>&quot;mean&quot;</td><td>null</td><td>null</td><td>0.6</td></tr><tr><td>&quot;std&quot;</td><td>null</td><td>null</td><td>0.547723</td></tr><tr><td>&quot;min&quot;</td><td>&quot;Antony&quot;</td><td>&quot;23&quot;</td><td>0.0</td></tr><tr><td>&quot;25%&quot;</td><td>null</td><td>null</td><td>0.0</td></tr><tr><td>&quot;50%&quot;</td><td>null</td><td>null</td><td>1.0</td></tr><tr><td>&quot;75%&quot;</td><td>null</td><td>null</td><td>1.0</td></tr><tr><td>&quot;max&quot;</td><td>&quot;Usha&quot;</td><td>&quot;69&quot;</td><td>1.0</td></tr></tbody></table></div>"
            ],
            "text/plain": [
              "shape: (9, 4)\n",
              "┌────────────┬────────┬──────┬──────────┐\n",
              "│ statistic  ┆ name   ┆ age  ┆ employed │\n",
              "│ ---        ┆ ---    ┆ ---  ┆ ---      │\n",
              "│ str        ┆ str    ┆ str  ┆ f64      │\n",
              "╞════════════╪════════╪══════╪══════════╡\n",
              "│ count      ┆ 5      ┆ 5    ┆ 5.0      │\n",
              "│ null_count ┆ 0      ┆ 0    ┆ 0.0      │\n",
              "│ mean       ┆ null   ┆ null ┆ 0.6      │\n",
              "│ std        ┆ null   ┆ null ┆ 0.547723 │\n",
              "│ min        ┆ Antony ┆ 23   ┆ 0.0      │\n",
              "│ 25%        ┆ null   ┆ null ┆ 0.0      │\n",
              "│ 50%        ┆ null   ┆ null ┆ 1.0      │\n",
              "│ 75%        ┆ null   ┆ null ┆ 1.0      │\n",
              "│ max        ┆ Usha   ┆ 69   ┆ 1.0      │\n",
              "└────────────┴────────┴──────┴──────────┘"
            ]
          },
          "execution_count": 155,
          "metadata": {},
          "output_type": "execute_result"
        }
      ],
      "source": [
        "# Test describe\n",
        "df_spp.describe()"
      ]
    },
    {
      "cell_type": "code",
      "execution_count": 156,
      "metadata": {
        "colab": {
          "base_uri": "https://localhost:8080/"
        },
        "id": "a8shDz7tzlyH",
        "outputId": "8aab0a97-9951-4e84-eccf-1ad4b313de2f"
      },
      "outputs": [
        {
          "data": {
            "text/plain": [
              "Schema([('name', String), ('age', String), ('employed', Int64)])"
            ]
          },
          "execution_count": 156,
          "metadata": {},
          "output_type": "execute_result"
        }
      ],
      "source": [
        "# Test collect_schema\n",
        "df_spp.collect_schema()"
      ]
    },
    {
      "cell_type": "code",
      "execution_count": 181,
      "metadata": {
        "colab": {
          "base_uri": "https://localhost:8080/",
          "height": 339
        },
        "collapsed": true,
        "id": "T3Wj49gz7TOJ",
        "outputId": "e74fa144-3a89-468f-b65e-e2ac731d2159"
      },
      "outputs": [
        {
          "data": {
            "text/plain": [
              "<bound method DataFrame.corr of shape: (5, 3)\n",
              "┌────────┬─────┬──────────┐\n",
              "│ name   ┆ age ┆ employed │\n",
              "│ ---    ┆ --- ┆ ---      │\n",
              "│ str    ┆ str ┆ i64      │\n",
              "╞════════╪═════╪══════════╡\n",
              "│ Shaun  ┆ 28  ┆ 1        │\n",
              "│ Sophie ┆ 23  ┆ 0        │\n",
              "│ Antony ┆ 32  ┆ 1        │\n",
              "│ Praful ┆ 69  ┆ 1        │\n",
              "│ Usha   ┆ 63  ┆ 0        │\n",
              "└────────┴─────┴──────────┘>"
            ]
          },
          "execution_count": 181,
          "metadata": {},
          "output_type": "execute_result"
        }
      ],
      "source": [
        "# Test out corr\n",
        "# Apparently corr doesn't work with types 'str', 'int'\n",
        "# Guess I need double/float?\n",
        "df_spp.corr()\n",
        "# Also interesting that if you don't call as method, i.e. if you do corr without parentheses, then you get a nice version of the dataframe without correlation\n"
      ]
    },
    {
      "cell_type": "code",
      "execution_count": null,
      "metadata": {
        "id": "FdSo9nas8Yu7"
      },
      "outputs": [
        {
          "data": {
            "text/html": [
              "<div><style>\n",
              ".dataframe > thead > tr,\n",
              ".dataframe > tbody > tr {\n",
              "  text-align: right;\n",
              "  white-space: pre-wrap;\n",
              "}\n",
              "</style>\n",
              "<small>shape: (5, 3)</small><table border=\"1\" class=\"dataframe\"><thead><tr><th>name</th><th>age</th><th>employed</th></tr><tr><td>str</td><td>str</td><td>i64</td></tr></thead><tbody><tr><td>&quot;Shaun&quot;</td><td>&quot;28&quot;</td><td>1</td></tr><tr><td>&quot;Sophie&quot;</td><td>&quot;23&quot;</td><td>0</td></tr><tr><td>&quot;Antony&quot;</td><td>&quot;32&quot;</td><td>1</td></tr><tr><td>&quot;Praful&quot;</td><td>&quot;69&quot;</td><td>1</td></tr><tr><td>&quot;Usha&quot;</td><td>&quot;63&quot;</td><td>0</td></tr></tbody></table></div>"
            ],
            "text/plain": [
              "shape: (5, 3)\n",
              "┌────────┬─────┬──────────┐\n",
              "│ name   ┆ age ┆ employed │\n",
              "│ ---    ┆ --- ┆ ---      │\n",
              "│ str    ┆ str ┆ i64      │\n",
              "╞════════╪═════╪══════════╡\n",
              "│ Shaun  ┆ 28  ┆ 1        │\n",
              "│ Sophie ┆ 23  ┆ 0        │\n",
              "│ Antony ┆ 32  ┆ 1        │\n",
              "│ Praful ┆ 69  ┆ 1        │\n",
              "│ Usha   ┆ 63  ┆ 0        │\n",
              "└────────┴─────┴──────────┘"
            ]
          },
          "execution_count": 71,
          "metadata": {},
          "output_type": "execute_result"
        }
      ],
      "source": [
        "# Have to learn how to add more columns that are double/float, select them using pl framework, and run corr() on them\n",
        "# Goal is to get corr() to work\n",
        "\n",
        "# First let's create another df_spp object to work on:\n",
        "\n",
        "df_spp_scratch = df_spp.__copy__() # This copy is EXTREMELY IMPORTANT\n",
        "# If you don't do it, then after making the df_spp_scratch object, if you alter that object those changes also are applied to the original df_spp object\n",
        "# Insane!!!\n",
        "df_spp_scratch"
      ]
    },
    {
      "cell_type": "code",
      "execution_count": null,
      "metadata": {},
      "outputs": [
        {
          "data": {
            "text/html": [
              "<div><style>\n",
              ".dataframe > thead > tr,\n",
              ".dataframe > tbody > tr {\n",
              "  text-align: right;\n",
              "  white-space: pre-wrap;\n",
              "}\n",
              "</style>\n",
              "<small>shape: (5, 3)</small><table border=\"1\" class=\"dataframe\"><thead><tr><th>name</th><th>age</th><th>employed</th></tr><tr><td>str</td><td>str</td><td>i64</td></tr></thead><tbody><tr><td>&quot;Shaun&quot;</td><td>&quot;28&quot;</td><td>1</td></tr><tr><td>&quot;Sophie&quot;</td><td>&quot;23&quot;</td><td>0</td></tr><tr><td>&quot;Antony&quot;</td><td>&quot;32&quot;</td><td>1</td></tr><tr><td>&quot;Praful&quot;</td><td>&quot;69&quot;</td><td>1</td></tr><tr><td>&quot;Usha&quot;</td><td>&quot;63&quot;</td><td>0</td></tr></tbody></table></div>"
            ],
            "text/plain": [
              "shape: (5, 3)\n",
              "┌────────┬─────┬──────────┐\n",
              "│ name   ┆ age ┆ employed │\n",
              "│ ---    ┆ --- ┆ ---      │\n",
              "│ str    ┆ str ┆ i64      │\n",
              "╞════════╪═════╪══════════╡\n",
              "│ Shaun  ┆ 28  ┆ 1        │\n",
              "│ Sophie ┆ 23  ┆ 0        │\n",
              "│ Antony ┆ 32  ┆ 1        │\n",
              "│ Praful ┆ 69  ┆ 1        │\n",
              "│ Usha   ┆ 63  ┆ 0        │\n",
              "└────────┴─────┴──────────┘"
            ]
          },
          "execution_count": 72,
          "metadata": {},
          "output_type": "execute_result"
        }
      ],
      "source": [
        "df_spp"
      ]
    },
    {
      "cell_type": "code",
      "execution_count": null,
      "metadata": {
        "colab": {
          "base_uri": "https://localhost:8080/",
          "height": 287
        },
        "id": "YNn4QHMt7ov_",
        "outputId": "0ffcb3ea-30ec-4785-8aa4-69a94652fcde"
      },
      "outputs": [
        {
          "data": {
            "text/html": [
              "<div><style>\n",
              ".dataframe > thead > tr,\n",
              ".dataframe > tbody > tr {\n",
              "  text-align: right;\n",
              "  white-space: pre-wrap;\n",
              "}\n",
              "</style>\n",
              "<small>shape: (5, 5)</small><table border=\"1\" class=\"dataframe\"><thead><tr><th>name</th><th>age</th><th>employed</th><th>testcol</th><th>mac_user</th></tr><tr><td>str</td><td>str</td><td>i64</td><td>f64</td><td>f64</td></tr></thead><tbody><tr><td>&quot;Shaun&quot;</td><td>&quot;28&quot;</td><td>1</td><td>1.0</td><td>1.0</td></tr><tr><td>&quot;Sophie&quot;</td><td>&quot;23&quot;</td><td>0</td><td>2.0</td><td>1.0</td></tr><tr><td>&quot;Antony&quot;</td><td>&quot;32&quot;</td><td>1</td><td>3.0</td><td>1.0</td></tr><tr><td>&quot;Praful&quot;</td><td>&quot;69&quot;</td><td>1</td><td>4.0</td><td>0.0</td></tr><tr><td>&quot;Usha&quot;</td><td>&quot;63&quot;</td><td>0</td><td>5.0</td><td>0.0</td></tr></tbody></table></div>"
            ],
            "text/plain": [
              "shape: (5, 5)\n",
              "┌────────┬─────┬──────────┬─────────┬──────────┐\n",
              "│ name   ┆ age ┆ employed ┆ testcol ┆ mac_user │\n",
              "│ ---    ┆ --- ┆ ---      ┆ ---     ┆ ---      │\n",
              "│ str    ┆ str ┆ i64      ┆ f64     ┆ f64      │\n",
              "╞════════╪═════╪══════════╪═════════╪══════════╡\n",
              "│ Shaun  ┆ 28  ┆ 1        ┆ 1.0     ┆ 1.0      │\n",
              "│ Sophie ┆ 23  ┆ 0        ┆ 2.0     ┆ 1.0      │\n",
              "│ Antony ┆ 32  ┆ 1        ┆ 3.0     ┆ 1.0      │\n",
              "│ Praful ┆ 69  ┆ 1        ┆ 4.0     ┆ 0.0      │\n",
              "│ Usha   ┆ 63  ┆ 0        ┆ 5.0     ┆ 0.0      │\n",
              "└────────┴─────┴──────────┴─────────┴──────────┘"
            ]
          },
          "execution_count": 124,
          "metadata": {},
          "output_type": "execute_result"
        }
      ],
      "source": [
        "# insert_column inserts in-place, so if the below is executed, then the dataframe on which this method is being executed permanently changes in memory\n",
        "df_spp_scratch.insert_column(index=df_spp_scratch.width,  column=pl.lit(pl.Series(name='mac_user', values=[1.0, 1.0, 1.0, 0.0, 0.0], dtype=pl.Float64)))\n",
        "# Above line inserts new col in last index using the `width` method on the pl.DataFrame. This \n",
        "df_spp_scratch"
      ]
    },
    {
      "cell_type": "code",
      "execution_count": null,
      "metadata": {
        "colab": {
          "base_uri": "https://localhost:8080/",
          "height": 211
        },
        "id": "iggUWCvZV3uT",
        "outputId": "8bd6cdfe-c3eb-4342-8a7f-140c08605481"
      },
      "outputs": [
        {
          "data": {
            "text/html": [
              "<div><style>\n",
              ".dataframe > thead > tr,\n",
              ".dataframe > tbody > tr {\n",
              "  text-align: right;\n",
              "  white-space: pre-wrap;\n",
              "}\n",
              "</style>\n",
              "<small>shape: (5, 5)</small><table border=\"1\" class=\"dataframe\"><thead><tr><th>name</th><th>age</th><th>employed</th><th>mac_user</th><th>testcol</th></tr><tr><td>str</td><td>str</td><td>i64</td><td>f64</td><td>f64</td></tr></thead><tbody><tr><td>&quot;Shaun&quot;</td><td>&quot;28&quot;</td><td>1</td><td>1.0</td><td>1.0</td></tr><tr><td>&quot;Sophie&quot;</td><td>&quot;23&quot;</td><td>0</td><td>1.0</td><td>2.0</td></tr><tr><td>&quot;Antony&quot;</td><td>&quot;32&quot;</td><td>1</td><td>1.0</td><td>3.0</td></tr><tr><td>&quot;Praful&quot;</td><td>&quot;69&quot;</td><td>1</td><td>0.0</td><td>4.0</td></tr><tr><td>&quot;Usha&quot;</td><td>&quot;63&quot;</td><td>0</td><td>0.0</td><td>5.0</td></tr></tbody></table></div>"
            ],
            "text/plain": [
              "shape: (5, 5)\n",
              "┌────────┬─────┬──────────┬──────────┬─────────┐\n",
              "│ name   ┆ age ┆ employed ┆ mac_user ┆ testcol │\n",
              "│ ---    ┆ --- ┆ ---      ┆ ---      ┆ ---     │\n",
              "│ str    ┆ str ┆ i64      ┆ f64      ┆ f64     │\n",
              "╞════════╪═════╪══════════╪══════════╪═════════╡\n",
              "│ Shaun  ┆ 28  ┆ 1        ┆ 1.0      ┆ 1.0     │\n",
              "│ Sophie ┆ 23  ┆ 0        ┆ 1.0      ┆ 2.0     │\n",
              "│ Antony ┆ 32  ┆ 1        ┆ 1.0      ┆ 3.0     │\n",
              "│ Praful ┆ 69  ┆ 1        ┆ 0.0      ┆ 4.0     │\n",
              "│ Usha   ┆ 63  ┆ 0        ┆ 0.0      ┆ 5.0     │\n",
              "└────────┴─────┴──────────┴──────────┴─────────┘"
            ]
          },
          "execution_count": 125,
          "metadata": {},
          "output_type": "execute_result"
        }
      ],
      "source": [
        "mac_user_series = pl.Series(values=[1.0, 1.0, 1.0, 0.0, 0.0], dtype=pl.Float64)\n",
        "testcol_series = pl.Series(values = [1.0, 2.0, 3.0, 4.0, 5.0], dtype=pl.Float64)\n",
        "\n",
        "# `with_columns`` method doesn't save in-place like `insert_column` method does. If you run with_columns, and then run df_spp below,\n",
        "# df_spp does not contain the mac_user and testcol columns\n",
        "df_spp.with_columns(\n",
        "  pl.lit(value=mac_user_series).alias('mac_user'),\n",
        "  pl.lit(value=testcol_series).alias('testcol'))"
      ]
    },
    {
      "cell_type": "code",
      "execution_count": 163,
      "metadata": {
        "id": "X280bCqfd73V"
      },
      "outputs": [
        {
          "ename": "SyntaxError",
          "evalue": "invalid syntax (871174051.py, line 5)",
          "output_type": "error",
          "traceback": [
            "\u001b[0;36m  Cell \u001b[0;32mIn[163], line 5\u001b[0;36m\u001b[0m\n\u001b[0;31m    print([0:4])\u001b[0m\n\u001b[0m            ^\u001b[0m\n\u001b[0;31mSyntaxError\u001b[0m\u001b[0;31m:\u001b[0m invalid syntax\n"
          ]
        }
      ],
      "source": [
        "# Check that the 2 columns created in the cell above are not added in-place to df_spp\n",
        "df_spp.schema\n",
        "# Another interesting thing about methods for pl.DataFrame objects is that you don't need to call them using parentheses\n",
        "# Does that have something to do with the Rust backend?"
      ]
    },
    {
      "cell_type": "code",
      "execution_count": 170,
      "metadata": {},
      "outputs": [
        {
          "data": {
            "text/html": [
              "<div><style>\n",
              ".dataframe > thead > tr,\n",
              ".dataframe > tbody > tr {\n",
              "  text-align: right;\n",
              "  white-space: pre-wrap;\n",
              "}\n",
              "</style>\n",
              "<small>shape: (5, 5)</small><table border=\"1\" class=\"dataframe\"><thead><tr><th>name</th><th>age</th><th>employed</th><th>testcol</th><th>mac_user</th></tr><tr><td>str</td><td>f64</td><td>f64</td><td>f64</td><td>f64</td></tr></thead><tbody><tr><td>&quot;Shaun&quot;</td><td>28.0</td><td>1.0</td><td>1.0</td><td>1.0</td></tr><tr><td>&quot;Sophie&quot;</td><td>23.0</td><td>0.0</td><td>2.0</td><td>1.0</td></tr><tr><td>&quot;Antony&quot;</td><td>32.0</td><td>1.0</td><td>3.0</td><td>1.0</td></tr><tr><td>&quot;Praful&quot;</td><td>69.0</td><td>1.0</td><td>4.0</td><td>0.0</td></tr><tr><td>&quot;Usha&quot;</td><td>63.0</td><td>0.0</td><td>5.0</td><td>0.0</td></tr></tbody></table></div>"
            ],
            "text/plain": [
              "shape: (5, 5)\n",
              "┌────────┬──────┬──────────┬─────────┬──────────┐\n",
              "│ name   ┆ age  ┆ employed ┆ testcol ┆ mac_user │\n",
              "│ ---    ┆ ---  ┆ ---      ┆ ---     ┆ ---      │\n",
              "│ str    ┆ f64  ┆ f64      ┆ f64     ┆ f64      │\n",
              "╞════════╪══════╪══════════╪═════════╪══════════╡\n",
              "│ Shaun  ┆ 28.0 ┆ 1.0      ┆ 1.0     ┆ 1.0      │\n",
              "│ Sophie ┆ 23.0 ┆ 0.0      ┆ 2.0     ┆ 1.0      │\n",
              "│ Antony ┆ 32.0 ┆ 1.0      ┆ 3.0     ┆ 1.0      │\n",
              "│ Praful ┆ 69.0 ┆ 1.0      ┆ 4.0     ┆ 0.0      │\n",
              "│ Usha   ┆ 63.0 ┆ 0.0      ┆ 5.0     ┆ 0.0      │\n",
              "└────────┴──────┴──────────┴─────────┴──────────┘"
            ]
          },
          "execution_count": 170,
          "metadata": {},
          "output_type": "execute_result"
        }
      ],
      "source": [
        "# Another useful thing to do is change col type, so let's change a few types\n",
        "# This below does not change in place, thank god\n",
        "# So .with_columns and .cast are safe, no irreversible changes\n",
        "\n",
        "df_spp_scratch_mod = \\\n",
        "    df_spp_scratch.with_columns(pl.col('age').cast(pl.Float64),\n",
        "                                pl.col('employed').cast(pl.Float64),\n",
        "                                pl.lit(value=pl.Series(range(1,6), dtype=pl.Float64).alias('testcol')),\n",
        "                                pl.lit(value=pl.Series([1]*3 + [0]*2, dtype=pl.Float64).alias('mac_user'))\n",
        "                                ).__copy__()\n",
        "\n",
        "df_spp_scratch_mod"
      ]
    },
    {
      "cell_type": "code",
      "execution_count": 184,
      "metadata": {},
      "outputs": [
        {
          "data": {
            "text/html": [
              "<div><style>\n",
              ".dataframe > thead > tr,\n",
              ".dataframe > tbody > tr {\n",
              "  text-align: right;\n",
              "  white-space: pre-wrap;\n",
              "}\n",
              "</style>\n",
              "<small>shape: (4, 4)</small><table border=\"1\" class=\"dataframe\"><thead><tr><th>age</th><th>employed</th><th>testcol</th><th>mac_user</th></tr><tr><td>f64</td><td>f64</td><td>f64</td><td>f64</td></tr></thead><tbody><tr><td>1.0</td><td>7.5979e-17</td><td>0.859377</td><td>-0.983769</td></tr><tr><td>7.5979e-17</td><td>1.0</td><td>-0.288675</td><td>0.166667</td></tr><tr><td>0.859377</td><td>-0.288675</td><td>1.0</td><td>-0.866025</td></tr><tr><td>-0.983769</td><td>0.166667</td><td>-0.866025</td><td>1.0</td></tr></tbody></table></div>"
            ],
            "text/plain": [
              "shape: (4, 4)\n",
              "┌────────────┬────────────┬───────────┬───────────┐\n",
              "│ age        ┆ employed   ┆ testcol   ┆ mac_user  │\n",
              "│ ---        ┆ ---        ┆ ---       ┆ ---       │\n",
              "│ f64        ┆ f64        ┆ f64       ┆ f64       │\n",
              "╞════════════╪════════════╪═══════════╪═══════════╡\n",
              "│ 1.0        ┆ 7.5979e-17 ┆ 0.859377  ┆ -0.983769 │\n",
              "│ 7.5979e-17 ┆ 1.0        ┆ -0.288675 ┆ 0.166667  │\n",
              "│ 0.859377   ┆ -0.288675  ┆ 1.0       ┆ -0.866025 │\n",
              "│ -0.983769  ┆ 0.166667   ┆ -0.866025 ┆ 1.0       │\n",
              "└────────────┴────────────┴───────────┴───────────┘"
            ]
          },
          "execution_count": 184,
          "metadata": {},
          "output_type": "execute_result"
        }
      ],
      "source": [
        "# select is a non-in-place modifying operation, thank god\n",
        "df_spp_scratch_mod.select(['age', 'employed', 'testcol', 'mac_user']).corr()"
      ]
    },
    {
      "cell_type": "code",
      "execution_count": 189,
      "metadata": {},
      "outputs": [
        {
          "data": {
            "text/html": [
              "<div><style>\n",
              ".dataframe > thead > tr,\n",
              ".dataframe > tbody > tr {\n",
              "  text-align: right;\n",
              "  white-space: pre-wrap;\n",
              "}\n",
              "</style>\n",
              "<small>shape: (2, 2)</small><table border=\"1\" class=\"dataframe\"><thead><tr><th>by</th><th>age</th></tr><tr><td>f64</td><td>f64</td></tr></thead><tbody><tr><td>0.0</td><td>66.0</td></tr><tr><td>1.0</td><td>27.666667</td></tr></tbody></table></div>"
            ],
            "text/plain": [
              "shape: (2, 2)\n",
              "┌─────┬───────────┐\n",
              "│ by  ┆ age       │\n",
              "│ --- ┆ ---       │\n",
              "│ f64 ┆ f64       │\n",
              "╞═════╪═══════════╡\n",
              "│ 0.0 ┆ 66.0      │\n",
              "│ 1.0 ┆ 27.666667 │\n",
              "└─────┴───────────┘"
            ]
          },
          "execution_count": 189,
          "metadata": {},
          "output_type": "execute_result"
        }
      ],
      "source": [
        "# Now I want to do a group_by to see average age by OS\n",
        "\n",
        "df_spp_scratch_mod.group_by(by=\"mac_user\").agg(pl.col('age').mean())"
      ]
    },
    {
      "cell_type": "code",
      "execution_count": 188,
      "metadata": {},
      "outputs": [
        {
          "data": {
            "text/html": [
              "<div><style>\n",
              ".dataframe > thead > tr,\n",
              ".dataframe > tbody > tr {\n",
              "  text-align: right;\n",
              "  white-space: pre-wrap;\n",
              "}\n",
              "</style>\n",
              "<small>shape: (5, 5)</small><table border=\"1\" class=\"dataframe\"><thead><tr><th>name</th><th>age</th><th>employed</th><th>testcol</th><th>mac_user</th></tr><tr><td>str</td><td>f64</td><td>f64</td><td>f64</td><td>f64</td></tr></thead><tbody><tr><td>&quot;Shaun&quot;</td><td>28.0</td><td>1.0</td><td>1.0</td><td>1.0</td></tr><tr><td>&quot;Sophie&quot;</td><td>23.0</td><td>0.0</td><td>2.0</td><td>1.0</td></tr><tr><td>&quot;Antony&quot;</td><td>32.0</td><td>1.0</td><td>3.0</td><td>1.0</td></tr><tr><td>&quot;Praful&quot;</td><td>69.0</td><td>1.0</td><td>4.0</td><td>0.0</td></tr><tr><td>&quot;Usha&quot;</td><td>63.0</td><td>0.0</td><td>5.0</td><td>0.0</td></tr></tbody></table></div>"
            ],
            "text/plain": [
              "shape: (5, 5)\n",
              "┌────────┬──────┬──────────┬─────────┬──────────┐\n",
              "│ name   ┆ age  ┆ employed ┆ testcol ┆ mac_user │\n",
              "│ ---    ┆ ---  ┆ ---      ┆ ---     ┆ ---      │\n",
              "│ str    ┆ f64  ┆ f64      ┆ f64     ┆ f64      │\n",
              "╞════════╪══════╪══════════╪═════════╪══════════╡\n",
              "│ Shaun  ┆ 28.0 ┆ 1.0      ┆ 1.0     ┆ 1.0      │\n",
              "│ Sophie ┆ 23.0 ┆ 0.0      ┆ 2.0     ┆ 1.0      │\n",
              "│ Antony ┆ 32.0 ┆ 1.0      ┆ 3.0     ┆ 1.0      │\n",
              "│ Praful ┆ 69.0 ┆ 1.0      ┆ 4.0     ┆ 0.0      │\n",
              "│ Usha   ┆ 63.0 ┆ 0.0      ┆ 5.0     ┆ 0.0      │\n",
              "└────────┴──────┴──────────┴─────────┴──────────┘"
            ]
          },
          "execution_count": 188,
          "metadata": {},
          "output_type": "execute_result"
        }
      ],
      "source": []
    },
    {
      "cell_type": "code",
      "execution_count": null,
      "metadata": {},
      "outputs": [],
      "source": []
    }
  ],
  "metadata": {
    "colab": {
      "provenance": []
    },
    "kernelspec": {
      "display_name": "Python 3",
      "name": "python3"
    },
    "language_info": {
      "codemirror_mode": {
        "name": "ipython",
        "version": 3
      },
      "file_extension": ".py",
      "mimetype": "text/x-python",
      "name": "python",
      "nbconvert_exporter": "python",
      "pygments_lexer": "ipython3",
      "version": "3.10.15"
    }
  },
  "nbformat": 4,
  "nbformat_minor": 0
}
